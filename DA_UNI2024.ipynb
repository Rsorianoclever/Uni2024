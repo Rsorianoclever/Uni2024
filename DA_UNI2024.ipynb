{
  "nbformat": 4,
  "nbformat_minor": 0,
  "metadata": {
    "colab": {
      "provenance": []
    },
    "kernelspec": {
      "name": "python3",
      "display_name": "Python 3"
    },
    "language_info": {
      "name": "python"
    }
  },
  "cells": [
    {
      "cell_type": "markdown",
      "source": [
        "#Taller de análisis de datos con python en Minería\n",
        "Bienvenidos al **Taller de Análisis de Datos con Python en Minería** - Laboratorio de Software Minero UNI 2024\n",
        "\n",
        "¡Saludos a todos los entusiastas de la minería y la programación! Nos complace dar inicio al Taller de Análisis de Datos con Python, una experiencia educativa diseñada para explorar las poderosas herramientas que ofrece Python en el ámbito del análisis de datos. Este taller proporcionará una introducción a las técnicas y bibliotecas más relevantes, permitiéndoles a los participantes adquirir habilidades esenciales para el análisis efectivo de datos en la industria minera.\n",
        "\n",
        "A lo largo de este taller, nos sumergiremos en conceptos clave, desde la manipulación básica de datos hasta técnicas avanzadas de visualización. Python, con su sintaxis clara y su ecosistema robusto, se convierte en la elección ideal para aquellos que buscan mejorar sus habilidades en el análisis de datos aplicado a la minería.\n",
        "\n",
        "Prepárense para una experiencia hands-on, donde cada línea de código que escriban los acercará más a la comprensión profunda de los datos en el contexto minero. Estamos emocionados de acompañarlos en este viaje educativo y esperamos que al final del taller, se sientan capacitados para abordar desafíos reales en el análisis de datos en la industria minera.\n",
        "\n",
        "¡Vamos a sumergirnos juntos en el fascinante mundo del análisis de datos con Python en la minería!"
      ],
      "metadata": {
        "id": "Uid0WC9oeb1i"
      }
    },
    {
      "cell_type": "markdown",
      "source": [
        "#1.  Python essentials\n",
        "\n"
      ],
      "metadata": {
        "id": "qKl1U1I8fb5-"
      }
    },
    {
      "cell_type": "markdown",
      "source": [
        "###Fundamentos"
      ],
      "metadata": {
        "id": "3wLVnshDiO1a"
      }
    },
    {
      "cell_type": "code",
      "execution_count": null,
      "metadata": {
        "id": "Mxz4FUVnIYu4"
      },
      "outputs": [],
      "source": [
        "\"\"\" Sintaxis Básica:\"\"\"\n",
        "\n",
        "# Declaración de variables\n",
        "nombre = \"\"\n",
        "edad =\n",
        "salario ="
      ]
    },
    {
      "cell_type": "code",
      "source": [
        "# Operadores aritméticos\n",
        "a =\n",
        "b =\n",
        "suma = a + b\n",
        "resta = a - b\n",
        "multiplicacion = a * b\n",
        "division = a / b"
      ],
      "metadata": {
        "id": "w_76MCHRgrF4"
      },
      "execution_count": null,
      "outputs": []
    },
    {
      "cell_type": "code",
      "source": [
        "print(suma, resta, multiplicacion, division)"
      ],
      "metadata": {
        "id": "kLiN4kAeg9VA"
      },
      "execution_count": null,
      "outputs": []
    },
    {
      "cell_type": "code",
      "source": [
        "# Operadores lógicos\n",
        "condicion_1 =\n",
        "condicion_2 =\n",
        "\n",
        "and_resultado = condicion_1 and condicion_2\n",
        "or_resultado = condicion_1 or condicion_2\n",
        "not_resultado = not condicion_1"
      ],
      "metadata": {
        "id": "E7Ixy5iYgrIG"
      },
      "execution_count": 4,
      "outputs": []
    },
    {
      "cell_type": "code",
      "source": [
        "print(and_resultado,or_resultado,not_resultado)"
      ],
      "metadata": {
        "id": "6UQj13aQhZ2W"
      },
      "execution_count": null,
      "outputs": []
    },
    {
      "cell_type": "code",
      "source": [
        "# Estructuras de control\n",
        "nota =\n",
        "\n",
        "if nota >= :\n",
        "    print(\"Excelente\")\n",
        "elif nota >= :\n",
        "    print(\"Buen trabajo\")\n",
        "else:\n",
        "    print(\"Necesitas mejorar\")"
      ],
      "metadata": {
        "colab": {
          "base_uri": "https://localhost:8080/"
        },
        "id": "4jjDeR2Bee-h",
        "outputId": "9fc7aff5-f69b-4b50-d1ea-1511ed07be4b"
      },
      "execution_count": 5,
      "outputs": [
        {
          "output_type": "stream",
          "name": "stdout",
          "text": [
            "Buen trabajo\n"
          ]
        }
      ]
    },
    {
      "cell_type": "code",
      "source": [
        "# Bucle for\n",
        "for i in range(5):\n",
        "    print(i)"
      ],
      "metadata": {
        "id": "OX-oMSFUefAl"
      },
      "execution_count": null,
      "outputs": []
    },
    {
      "cell_type": "code",
      "source": [
        "# Bucle while\n",
        "contador = 0\n",
        "while contador < 5:\n",
        "    print(contador)\n",
        "    contador += 1"
      ],
      "metadata": {
        "id": "STIRlCfmkts9"
      },
      "execution_count": null,
      "outputs": []
    },
    {
      "cell_type": "markdown",
      "source": [
        "###Estructuras de Datos"
      ],
      "metadata": {
        "id": "hvxKRoR_iHP8"
      }
    },
    {
      "cell_type": "code",
      "source": [
        "\"\"\" Estructuras de Datos:\"\"\"\n",
        "\n",
        "# Listas\n",
        "mi_lista = [1, 2, 3, 4, 5]\n",
        "print(mi_lista)\n",
        "\n",
        "# Tuplas\n",
        "mi_tupla = (10, 20, 30)\n",
        "print(mi_tupla)\n",
        "\n",
        "# Diccionarios\n",
        "mi_diccionario = {\"nombre\": \"Juan\", \"edad\": 25, \"ciudad\": \"Lima\"}\n",
        "print(mi_diccionario)"
      ],
      "metadata": {
        "colab": {
          "base_uri": "https://localhost:8080/"
        },
        "id": "ea9Z1etxh6Ok",
        "outputId": "0518d60c-d9c1-48dd-9b90-17c103c6ea82"
      },
      "execution_count": 20,
      "outputs": [
        {
          "output_type": "stream",
          "name": "stdout",
          "text": [
            "[1, 2, 3, 4, 5]\n",
            "(10, 20, 30)\n",
            "{'nombre': 'Juan', 'edad': 25, 'ciudad': 'Lima'}\n"
          ]
        }
      ]
    },
    {
      "cell_type": "code",
      "source": [
        "# Acceso y manipulación de elementos en listas\n",
        "primer_elemento = mi_lista[0]\n",
        "mi_lista.append(6)\n",
        "mi_lista[2] = 300\n",
        "\n",
        "# Acceso y manipulación de elementos en tuplas\n",
        "tercer_elemento_tupla = mi_tupla[2]\n",
        "\n",
        "# Acceso y manipulación de elementos en diccionarios\n",
        "edad_juan = mi_diccionario[\"edad\"]\n",
        "mi_diccionario[\"ocupacion\"] = \"Ingeniero\""
      ],
      "metadata": {
        "id": "pFXqE1y4h6RD"
      },
      "execution_count": 21,
      "outputs": []
    },
    {
      "cell_type": "code",
      "source": [
        "# Funciones integradas para listas\n",
        "longitud_lista = len(mi_lista)\n",
        "suma_lista = sum(mi_lista)\n",
        "indice_elemento = mi_lista.index(4)\n",
        "\n",
        "# Funciones integradas para diccionarios\n",
        "claves_diccionario = mi_diccionario.keys()\n",
        "valores_diccionario = mi_diccionario.values()\n",
        "items_diccionario = mi_diccionario.items()"
      ],
      "metadata": {
        "id": "-fI7Zo2bh6Xv"
      },
      "execution_count": 22,
      "outputs": []
    },
    {
      "cell_type": "markdown",
      "source": [
        "###Funciones"
      ],
      "metadata": {
        "id": "94Bbsix3iocH"
      }
    },
    {
      "cell_type": "code",
      "source": [
        "# Creación de una función\n",
        "def saludar():\n",
        "    print(\"¡Hola! Bienvenido al taller.\")\n",
        "\n",
        "# Llamada a la función\n",
        "saludar()"
      ],
      "metadata": {
        "id": "JPTzNcavh6aB"
      },
      "execution_count": null,
      "outputs": []
    },
    {
      "cell_type": "code",
      "source": [
        "# Función con parámetros\n",
        "def sumar(a, b):\n",
        "    resultado = a + b\n",
        "    print(f\"La suma de {a} y {b} es {resultado}\")\n",
        "\n",
        "# Llamada a la función con argumentos\n",
        "sumar(5, 3)"
      ],
      "metadata": {
        "id": "QIdtZtPjirHM"
      },
      "execution_count": null,
      "outputs": []
    },
    {
      "cell_type": "code",
      "source": [
        "# Función con retorno de valor\n",
        "def multiplicar(x, y):\n",
        "    producto = x * y\n",
        "    return producto\n",
        "\n",
        "# Llamada a la función y uso del valor retornado\n",
        "resultado_multiplicacion = multiplicar(4, 7)\n",
        "print(f\"El resultado de la multiplicación es: {resultado_multiplicacion}\")"
      ],
      "metadata": {
        "id": "x0nXOtesh6cY"
      },
      "execution_count": null,
      "outputs": []
    },
    {
      "cell_type": "markdown",
      "source": [
        "###Manejo de archivos,"
      ],
      "metadata": {
        "id": "IOQYo6pfjF73"
      }
    },
    {
      "cell_type": "code",
      "source": [
        "# Escritura de un archivo de texto\n",
        "with open(\"archivo.txt\", \"w\") as archivo_escritura:\n",
        "    archivo_escritura.write(\"Hola, este es un ejemplo de escritura en archivo.\")"
      ],
      "metadata": {
        "id": "BuW1Xa25h6eg"
      },
      "execution_count": 24,
      "outputs": []
    },
    {
      "cell_type": "code",
      "source": [
        "# Lectura de un archivo de texto\n",
        "with open(\"archivo.txt\", \"r\") as archivo_lectura:\n",
        "    contenido = archivo_lectura.read()\n",
        "    print(\"Contenido del archivo:\", contenido)"
      ],
      "metadata": {
        "id": "f7Imw4pZloZG"
      },
      "execution_count": null,
      "outputs": []
    },
    {
      "cell_type": "code",
      "source": [
        "import csv\n",
        "\n",
        "# Escritura de un archivo CSV\n",
        "datos_csv = [[\"Nombre\", \"Edad\", \"Ciudad\"],\n",
        "             [\"Juan\", 25, \"Lima\"],\n",
        "             [\"María\", 30, \"Arequipa\"]]\n",
        "\n",
        "with open(\"datos.csv\", \"w\", newline=\"\") as archivo_csv:\n",
        "    escritor_csv = csv.writer(archivo_csv)\n",
        "    escritor_csv.writerows(datos_csv)\n",
        "\n",
        "# Lectura de un archivo CSV\n",
        "with open(\"datos.csv\", \"r\") as archivo_csv_lectura:\n",
        "    lector_csv = csv.reader(archivo_csv_lectura)\n",
        "    for fila in lector_csv:\n",
        "        print(fila)"
      ],
      "metadata": {
        "id": "SM2taCLbjI97"
      },
      "execution_count": null,
      "outputs": []
    },
    {
      "cell_type": "markdown",
      "source": [
        "###Librerías Esenciales para el Análisis de Datos"
      ],
      "metadata": {
        "id": "PedLaYEUjltM"
      }
    },
    {
      "cell_type": "code",
      "source": [
        "import numpy as np\n",
        "\n",
        "# Creación de un array con NumPy\n",
        "array_np = np.array([1, 2, 3, 4, 5])\n",
        "\n",
        "# Operaciones numéricas con NumPy\n",
        "suma_array = np.sum(array_np)\n",
        "promedio_array = np.mean(array_np)"
      ],
      "metadata": {
        "id": "xnuNtEtljJAY"
      },
      "execution_count": 26,
      "outputs": []
    },
    {
      "cell_type": "code",
      "source": [
        "import pandas as pd\n",
        "\n",
        "# Creación de un DataFrame con Pandas\n",
        "data = {'Nombre': ['Juan', 'María', 'Carlos'],\n",
        "        'Edad': [25, 30, 22],\n",
        "        'Ciudad': ['Lima', 'Arequipa', 'Cusco']}\n",
        "\n",
        "df = pd.DataFrame(data)\n",
        "\n",
        "# Mostrar el DataFrame\n",
        "print(df)\n",
        "\n",
        "# Acceso a columnas específicas\n",
        "edades = df['Edad']"
      ],
      "metadata": {
        "colab": {
          "base_uri": "https://localhost:8080/"
        },
        "id": "NDWwLy52jJCQ",
        "outputId": "307872c5-7acc-4f1c-f094-eafc9051dac8"
      },
      "execution_count": 38,
      "outputs": [
        {
          "output_type": "stream",
          "name": "stdout",
          "text": [
            "   Nombre  Edad    Ciudad\n",
            "0    Juan    25      Lima\n",
            "1   María    30  Arequipa\n",
            "2  Carlos    22     Cusco\n"
          ]
        }
      ]
    },
    {
      "cell_type": "code",
      "source": [
        "import matplotlib.pyplot as plt\n",
        "\n",
        "# Creación de un gráfico de barras con Matplotlib\n",
        "x = ['A', 'B', 'C', 'D']\n",
        "y = [10, 20, 15, 25]\n",
        "\n",
        "plt.bar(x, y)\n",
        "plt.xlabel('Categorías')\n",
        "plt.ylabel('Valores')\n",
        "plt.title('Gráfico de Barras')\n",
        "plt.show()"
      ],
      "metadata": {
        "id": "6Q5J-ag0jJGQ"
      },
      "execution_count": null,
      "outputs": []
    },
    {
      "cell_type": "code",
      "source": [],
      "metadata": {
        "id": "C_qi0pqgjKA_"
      },
      "execution_count": null,
      "outputs": []
    },
    {
      "cell_type": "code",
      "source": [],
      "metadata": {
        "id": "hiXU-bYmju03"
      },
      "execution_count": null,
      "outputs": []
    },
    {
      "cell_type": "code",
      "source": [],
      "metadata": {
        "id": "gcVrfmXqju3a"
      },
      "execution_count": null,
      "outputs": []
    },
    {
      "cell_type": "code",
      "source": [],
      "metadata": {
        "id": "eUN1fPPHju5n"
      },
      "execution_count": null,
      "outputs": []
    },
    {
      "cell_type": "code",
      "source": [],
      "metadata": {
        "id": "K2lowSJfju-v"
      },
      "execution_count": null,
      "outputs": []
    },
    {
      "cell_type": "code",
      "source": [],
      "metadata": {
        "id": "EtGIePm_jvBL"
      },
      "execution_count": null,
      "outputs": []
    },
    {
      "cell_type": "code",
      "source": [],
      "metadata": {
        "id": "k7ZLI-e8jvDh"
      },
      "execution_count": null,
      "outputs": []
    },
    {
      "cell_type": "code",
      "source": [],
      "metadata": {
        "id": "OgRAgYRajvIs"
      },
      "execution_count": null,
      "outputs": []
    },
    {
      "cell_type": "code",
      "source": [],
      "metadata": {
        "id": "mftFxzz6jKDH"
      },
      "execution_count": null,
      "outputs": []
    },
    {
      "cell_type": "code",
      "source": [],
      "metadata": {
        "id": "io-G3Q9mh6g_"
      },
      "execution_count": null,
      "outputs": []
    }
  ]
}